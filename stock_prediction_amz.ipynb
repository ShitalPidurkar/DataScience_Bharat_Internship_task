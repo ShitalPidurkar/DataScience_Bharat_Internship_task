{
 "cells": [
  {
   "cell_type": "code",
   "execution_count": 1,
   "id": "1578e359",
   "metadata": {},
   "outputs": [],
   "source": [
    "import pandas as pd\n",
    "import numpy as np\n",
    "import matplotlib.pyplot as plt\n",
    "from sklearn.preprocessing import MinMaxScaler\n",
    "from sklearn.model_selection import train_test_split\n",
    "from tensorflow.keras.models import Sequential\n",
    "from tensorflow.keras.layers import LSTM, Dense"
   ]
  },
  {
   "cell_type": "code",
   "execution_count": 2,
   "id": "33a7ee28",
   "metadata": {},
   "outputs": [],
   "source": [
    "# Load the stock price data\n",
    "df = pd.read_csv(\"E:\\dataset\\stock_amz\\STOCK_US_XNAS_AMZN.csv\")  # Load the stock data from the CSV file\n",
    "\n",
    "# Reverse the order of the DataFrame to have the oldest date first\n",
    "df = df.iloc[::-1]\n",
    "\n",
    "# Extract the 'Close' price as the target variable\n",
    "data = df[['Close']].values\n",
    "\n",
    "# Normalize the data\n",
    "scaler = MinMaxScaler(feature_range=(0, 1))\n",
    "data_normalized = scaler.fit_transform(data.reshape(-1, 1))"
   ]
  },
  {
   "cell_type": "code",
   "execution_count": 3,
   "id": "5eace9ed",
   "metadata": {},
   "outputs": [],
   "source": [
    "# Split the data into training and testing sets\n",
    "train_data = data_normalized[:int(0.8 * len(data_normalized))]\n",
    "test_data = data_normalized[int(0.8 * len(data_normalized)):]"
   ]
  },
  {
   "cell_type": "code",
   "execution_count": 4,
   "id": "a94d3cdf",
   "metadata": {},
   "outputs": [],
   "source": [
    "# Function to create the LSTM dataset\n",
    "def create_lstm_dataset(data, look_back=1):\n",
    "    X, Y = [], []\n",
    "    for i in range(len(data) - look_back):\n",
    "        X.append(data[i:i+look_back])\n",
    "        Y.append(data[i+look_back])\n",
    "    return np.array(X), np.array(Y)"
   ]
  },
  {
   "cell_type": "code",
   "execution_count": 5,
   "id": "e7c15064",
   "metadata": {},
   "outputs": [],
   "source": [
    "# Create the LSTM dataset with a look-back of 7 (use previous 7 days' data to predict the next day)\n",
    "train_X, train_Y = create_lstm_dataset(train_data, look_back=7)\n",
    "test_X, test_Y = create_lstm_dataset(test_data, look_back=7)\n"
   ]
  },
  {
   "cell_type": "code",
   "execution_count": 6,
   "id": "e82bdede",
   "metadata": {},
   "outputs": [],
   "source": [
    "# Reshape the input data to be in the form [samples, time steps, features]\n",
    "train_X = np.reshape(train_X, (train_X.shape[0], train_X.shape[1], 1))\n",
    "test_X = np.reshape(test_X, (test_X.shape[0], test_X.shape[1], 1))"
   ]
  },
  {
   "cell_type": "code",
   "execution_count": 7,
   "id": "c3c60585",
   "metadata": {},
   "outputs": [],
   "source": [
    "# Create the LSTM model\n",
    "model = Sequential()\n",
    "model.add(LSTM(units=50, input_shape=(train_X.shape[1], 1)))\n",
    "model.add(Dense(units=1))\n",
    "model.compile(optimizer='adam', loss='mean_squared_error')"
   ]
  },
  {
   "cell_type": "code",
   "execution_count": 8,
   "id": "7ef88023",
   "metadata": {},
   "outputs": [
    {
     "name": "stdout",
     "output_type": "stream",
     "text": [
      "Epoch 1/50\n",
      "7/7 - 1s - loss: 0.1606\n",
      "Epoch 2/50\n",
      "7/7 - 0s - loss: 0.0584\n",
      "Epoch 3/50\n",
      "7/7 - 0s - loss: 0.0132\n",
      "Epoch 4/50\n",
      "7/7 - 0s - loss: 0.0220\n",
      "Epoch 5/50\n",
      "7/7 - 0s - loss: 0.0134\n",
      "Epoch 6/50\n",
      "7/7 - 0s - loss: 0.0094\n",
      "Epoch 7/50\n",
      "7/7 - 0s - loss: 0.0088\n",
      "Epoch 8/50\n",
      "7/7 - 0s - loss: 0.0082\n",
      "Epoch 9/50\n",
      "7/7 - 0s - loss: 0.0079\n",
      "Epoch 10/50\n",
      "7/7 - 0s - loss: 0.0077\n",
      "Epoch 11/50\n",
      "7/7 - 0s - loss: 0.0074\n",
      "Epoch 12/50\n",
      "7/7 - 0s - loss: 0.0073\n",
      "Epoch 13/50\n",
      "7/7 - 0s - loss: 0.0071\n",
      "Epoch 14/50\n",
      "7/7 - 0s - loss: 0.0070\n",
      "Epoch 15/50\n",
      "7/7 - 0s - loss: 0.0070\n",
      "Epoch 16/50\n",
      "7/7 - 0s - loss: 0.0073\n",
      "Epoch 17/50\n",
      "7/7 - 0s - loss: 0.0071\n",
      "Epoch 18/50\n",
      "7/7 - 0s - loss: 0.0070\n",
      "Epoch 19/50\n",
      "7/7 - 0s - loss: 0.0069\n",
      "Epoch 20/50\n",
      "7/7 - 0s - loss: 0.0072\n",
      "Epoch 21/50\n",
      "7/7 - 0s - loss: 0.0070\n",
      "Epoch 22/50\n",
      "7/7 - 0s - loss: 0.0068\n",
      "Epoch 23/50\n",
      "7/7 - 0s - loss: 0.0069\n",
      "Epoch 24/50\n",
      "7/7 - 0s - loss: 0.0068\n",
      "Epoch 25/50\n",
      "7/7 - 0s - loss: 0.0066\n",
      "Epoch 26/50\n",
      "7/7 - 0s - loss: 0.0065\n",
      "Epoch 27/50\n",
      "7/7 - 0s - loss: 0.0067\n",
      "Epoch 28/50\n",
      "7/7 - 0s - loss: 0.0065\n",
      "Epoch 29/50\n",
      "7/7 - 0s - loss: 0.0065\n",
      "Epoch 30/50\n",
      "7/7 - 0s - loss: 0.0068\n",
      "Epoch 31/50\n",
      "7/7 - 0s - loss: 0.0064\n",
      "Epoch 32/50\n",
      "7/7 - 0s - loss: 0.0064\n",
      "Epoch 33/50\n",
      "7/7 - 0s - loss: 0.0064\n",
      "Epoch 34/50\n",
      "7/7 - 0s - loss: 0.0064\n",
      "Epoch 35/50\n",
      "7/7 - 0s - loss: 0.0063\n",
      "Epoch 36/50\n",
      "7/7 - 0s - loss: 0.0063\n",
      "Epoch 37/50\n",
      "7/7 - 0s - loss: 0.0062\n",
      "Epoch 38/50\n",
      "7/7 - 0s - loss: 0.0063\n",
      "Epoch 39/50\n",
      "7/7 - 0s - loss: 0.0062\n",
      "Epoch 40/50\n",
      "7/7 - 0s - loss: 0.0063\n",
      "Epoch 41/50\n",
      "7/7 - 0s - loss: 0.0061\n",
      "Epoch 42/50\n",
      "7/7 - 0s - loss: 0.0061\n",
      "Epoch 43/50\n",
      "7/7 - 0s - loss: 0.0061\n",
      "Epoch 44/50\n",
      "7/7 - 0s - loss: 0.0061\n",
      "Epoch 45/50\n",
      "7/7 - 0s - loss: 0.0060\n",
      "Epoch 46/50\n",
      "7/7 - 0s - loss: 0.0059\n",
      "Epoch 47/50\n",
      "7/7 - 0s - loss: 0.0059\n",
      "Epoch 48/50\n",
      "7/7 - 0s - loss: 0.0064\n",
      "Epoch 49/50\n",
      "7/7 - 0s - loss: 0.0058\n",
      "Epoch 50/50\n",
      "7/7 - 0s - loss: 0.0067\n"
     ]
    },
    {
     "data": {
      "text/plain": [
       "<keras.callbacks.History at 0x1dd8b9acfd0>"
      ]
     },
     "execution_count": 8,
     "metadata": {},
     "output_type": "execute_result"
    }
   ],
   "source": [
    "# Train the model\n",
    "model.fit(train_X, train_Y, epochs=50, batch_size=32, verbose=2)"
   ]
  },
  {
   "cell_type": "code",
   "execution_count": 9,
   "id": "6789af96",
   "metadata": {},
   "outputs": [],
   "source": [
    "# Make predictions on the test data\n",
    "predictions = model.predict(test_X)"
   ]
  },
  {
   "cell_type": "code",
   "execution_count": 10,
   "id": "4ea6545d",
   "metadata": {},
   "outputs": [],
   "source": [
    "# Denormalize the actual prices\n",
    "actual_prices = scaler.inverse_transform(test_Y.reshape(-1, 1))\n",
    "# Denormalize the predictions\n",
    "predictions_denormalized = scaler.inverse_transform(predictions)"
   ]
  },
  {
   "cell_type": "code",
   "execution_count": 11,
   "id": "cb79ee89",
   "metadata": {},
   "outputs": [
    {
     "name": "stdout",
     "output_type": "stream",
     "text": [
      "Predicted: 100.95\n",
      "Predicted: 101.43\n",
      "Predicted: 102.46\n",
      "Predicted: 103.05\n",
      "Predicted: 102.90\n",
      "Predicted: 103.08\n",
      "Predicted: 104.10\n",
      "Predicted: 104.22\n",
      "Predicted: 103.68\n",
      "Predicted: 103.23\n",
      "Predicted: 102.88\n",
      "Predicted: 102.82\n",
      "Predicted: 102.95\n",
      "Predicted: 102.96\n",
      "Predicted: 103.37\n",
      "Predicted: 104.53\n",
      "Predicted: 105.89\n",
      "Predicted: 106.77\n",
      "Predicted: 107.61\n",
      "Predicted: 108.62\n",
      "Predicted: 109.87\n",
      "Predicted: 111.43\n",
      "Predicted: 112.29\n",
      "Predicted: 112.66\n",
      "Predicted: 112.96\n",
      "Predicted: 113.44\n",
      "Predicted: 113.40\n",
      "Predicted: 114.20\n",
      "Predicted: 115.19\n",
      "Predicted: 116.01\n",
      "Predicted: 117.18\n",
      "Predicted: 118.48\n",
      "Predicted: 119.71\n",
      "Predicted: 121.09\n",
      "Predicted: 120.94\n",
      "Predicted: 121.18\n",
      "Predicted: 121.25\n",
      "Predicted: 121.80\n",
      "Predicted: 122.28\n",
      "Predicted: 122.64\n",
      "Predicted: 123.03\n",
      "Predicted: 123.30\n",
      "Predicted: 123.37\n",
      "Predicted: 123.24\n"
     ]
    }
   ],
   "source": [
    "# Print the predicted prices\n",
    "for i in range(len(predictions_denormalized)):\n",
    "    print('Predicted: %.2f' % predictions_denormalized[i])"
   ]
  },
  {
   "cell_type": "code",
   "execution_count": 12,
   "id": "edfa0655",
   "metadata": {},
   "outputs": [
    {
     "data": {
      "image/png": "[encoded data removed]",
      "text/plain": [
       "<Figure size 864x432 with 1 Axes>"
      ]
     },
     "metadata": {
      "needs_background": "light"
     },
     "output_type": "display_data"
    }
   ],
   "source": [
    "# Plot the predicted prices and actual prices\n",
    "plt.figure(figsize=(12, 6))\n",
    "plt.plot(actual_prices, label='Actual Prices')\n",
    "plt.plot(predictions_denormalized, label='Predicted Prices')\n",
    "plt.xlabel('Time')\n",
    "plt.ylabel('Stock Price')\n",
    "plt.title('Predicted vs Actual Stock Prices')\n",
    "plt.legend()\n",
    "plt.show()"
   ]
  },
  {
   "cell_type": "code",
   "execution_count": null,
   "id": "2b4b6611",
   "metadata": {},
   "outputs": [],
   "source": []
  }
 ],
 "metadata": {
  "kernelspec": {
   "display_name": "Python 3",
   "language": "python",
   "name": "python3"
  },
  "language_info": {
   "codemirror_mode": {
    "name": "ipython",
    "version": 3
   },
   "file_extension": ".py",
   "mimetype": "text/x-python",
   "name": "python",
   "nbconvert_exporter": "python",
   "pygments_lexer": "ipython3",
   "version": "3.6.13"
  }
 },
 "nbformat": 4,
 "nbformat_minor": 5
}
